{
  "nbformat": 4,
  "nbformat_minor": 0,
  "metadata": {
    "colab": {
      "provenance": [],
      "authorship_tag": "ABX9TyOYCyvZSv/jmsZxmcEpLE5w"
    },
    "kernelspec": {
      "name": "python3",
      "display_name": "Python 3"
    },
    "language_info": {
      "name": "python"
    }
  },
  "cells": [
    {
      "cell_type": "code",
      "source": [
        "# El presente notebook cumple con el objetivo de únicamente descargar los datos\n",
        "# y dejarlos disponibles en un entorno propio en Google Drive\n",
        "\n",
        "import os\n",
        "from google.colab import drive"
      ],
      "metadata": {
        "id": "ag26Ssdyu7jM"
      },
      "execution_count": null,
      "outputs": []
    },
    {
      "cell_type": "code",
      "execution_count": 1,
      "metadata": {
        "colab": {
          "base_uri": "https://localhost:8080/"
        },
        "id": "Jn6rP355tlNr",
        "outputId": "6fb952bd-3897-47c2-fe44-cd664342ce76"
      },
      "outputs": [
        {
          "output_type": "stream",
          "name": "stdout",
          "text": [
            "Iniciando proceso de descarga de archivos...\n",
            "Realizando conexión con Google Drive\n",
            "Mounted at /content/drive\n",
            "Descargando archivos a entorno local de Colab...\n",
            "--2023-11-18 04:41:21--  https://zenodo.org/records/7404167/files/CyL_GHI_ast.csv\n",
            "Resolving zenodo.org (zenodo.org)... 188.184.98.238, 188.184.103.159, 188.185.79.172, ...\n",
            "Connecting to zenodo.org (zenodo.org)|188.184.98.238|:443... connected.\n",
            "HTTP request sent, awaiting response... 200 OK\n",
            "Length: 281900929 (269M) [text/plain]\n",
            "Saving to: ‘CyL_GHI_ast.csv’\n",
            "\n",
            "CyL_GHI_ast.csv     100%[===================>] 268.84M  23.8MB/s    in 13s     \n",
            "\n",
            "2023-11-18 04:41:35 (20.9 MB/s) - ‘CyL_GHI_ast.csv’ saved [281900929/281900929]\n",
            "\n",
            "--2023-11-18 04:41:36--  https://zenodo.org/records/7404167/files/CyL_meteo.csv\n",
            "Resolving zenodo.org (zenodo.org)... 188.184.98.238, 188.184.103.159, 188.185.79.172, ...\n",
            "Connecting to zenodo.org (zenodo.org)|188.184.98.238|:443... connected.\n",
            "HTTP request sent, awaiting response... 200 OK\n",
            "Length: 313198327 (299M) [text/plain]\n",
            "Saving to: ‘CyL_meteo.csv’\n",
            "\n",
            "CyL_meteo.csv       100%[===================>] 298.69M  20.5MB/s    in 15s     \n",
            "\n",
            "2023-11-18 04:41:52 (19.5 MB/s) - ‘CyL_meteo.csv’ saved [313198327/313198327]\n",
            "\n",
            "--2023-11-18 04:41:52--  https://zenodo.org/records/7404167/files/CyL_geo.csv\n",
            "Resolving zenodo.org (zenodo.org)... 188.185.79.172, 188.184.98.238, 188.184.103.159, ...\n",
            "Connecting to zenodo.org (zenodo.org)|188.185.79.172|:443... connected.\n",
            "HTTP request sent, awaiting response... 200 OK\n",
            "Length: 2429 (2.4K) [text/plain]\n",
            "Saving to: ‘CyL_geo.csv’\n",
            "\n",
            "CyL_geo.csv         100%[===================>]   2.37K  --.-KB/s    in 0s      \n",
            "\n",
            "2023-11-18 04:41:53 (1023 MB/s) - ‘CyL_geo.csv’ saved [2429/2429]\n",
            "\n"
          ]
        }
      ],
      "source": [
        "print(\"Iniciando proceso de descarga de archivos...\")\n",
        "print(\"Realizando conexión con Google Drive\")\n",
        "drive.mount('/content/drive')\n",
        "\n",
        "print(\"Descargando archivos a entorno local de Colab...\")\n",
        "! wget https://zenodo.org/records/7404167/files/CyL_GHI_ast.csv\n",
        "! wget https://zenodo.org/records/7404167/files/CyL_meteo.csv\n",
        "! wget https://zenodo.org/records/7404167/files/CyL_geo.csv"
      ]
    },
    {
      "cell_type": "code",
      "source": [
        "files = [\n",
        "    'CyL_GHI_ast.csv',\n",
        "    'CyL_meteo.csv',\n",
        "    'CyL_geo.csv'\n",
        "]\n",
        "\n",
        "for file in files:\n",
        "    print(f\"Copiando archivo {file}\")\n",
        "    os.popen(f\"cp {file} drive/MyDrive/3_Seminario/Momentos\\ evaluativos/ME04/{file}\")\n",
        "\n",
        "print(\"¡Archivos escritos satisfactoriamente!\")"
      ],
      "metadata": {
        "colab": {
          "base_uri": "https://localhost:8080/"
        },
        "id": "3vjVQeR2u0vL",
        "outputId": "10cba9af-ac54-4526-df9d-9689e8952b01"
      },
      "execution_count": 2,
      "outputs": [
        {
          "output_type": "stream",
          "name": "stdout",
          "text": [
            "Copiando archivo CyL_GHI_ast.csv\n",
            "Copiando archivo CyL_meteo.csv\n",
            "Copiando archivo CyL_geo.csv\n",
            "¡Archivos escritos satisfactoriamente!\n"
          ]
        }
      ]
    }
  ]
}