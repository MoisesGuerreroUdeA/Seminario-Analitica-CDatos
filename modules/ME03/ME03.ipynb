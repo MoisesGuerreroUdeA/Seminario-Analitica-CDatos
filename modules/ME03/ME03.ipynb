{
 "metadata": {
  "language_info": {
   "codemirror_mode": {
    "name": "ipython",
    "version": 3
   },
   "file_extension": ".py",
   "mimetype": "text/x-python",
   "name": "python",
   "nbconvert_exporter": "python",
   "pygments_lexer": "ipython3",
   "version": 3
  },
  "orig_nbformat": 2
 },
 "nbformat": 4,
 "nbformat_minor": 2,
 "cells": [
  {
   "source": [
    "# Uso de inteligencia artificial para mejorar el desempeño de un proyecto de generación fotovoltaica\n",
    "\n",
    "## Seminario de Analítica y Ciencia de Datos\n",
    "\n",
    "Moisés Alfonso Guerrero Jiménez, Andrés Castaño Licona\n",
    "\n",
    "### 1. Repositorio\n",
    "\n",
    "Para las actividades relacionadas con la entrega del `ME03` y el análisis de datos, se hará uso de un repositorio en *Github* donde se tendrá el material usado incluyendo funciones, documentación relacionada y así como el presente archivo a manera de cuaderno de Jupyter.\n",
    "\n",
    "### 2. Datos\n",
    "\n",
    "Para el desarrollo de la presente actividad se hará uso de datos disponibles en Kaggle en la url https://www.kaggle.com/datasets/samanemami/renewable-energy-and-weather-conditions"
   ],
   "cell_type": "markdown",
   "metadata": {}
  },
  {
   "cell_type": "code",
   "execution_count": null,
   "metadata": {},
   "outputs": [],
   "source": []
  }
 ]
}